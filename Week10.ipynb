{
  "nbformat": 4,
  "nbformat_minor": 0,
  "metadata": {
    "kernelspec": {
      "display_name": "Python 3",
      "language": "python",
      "name": "python3"
    },
    "language_info": {
      "codemirror_mode": {
        "name": "ipython",
        "version": 3
      },
      "file_extension": ".py",
      "mimetype": "text/x-python",
      "name": "python",
      "nbconvert_exporter": "python",
      "pygments_lexer": "ipython3",
      "version": "3.7.9"
    },
    "varInspector": {
      "cols": {
        "lenName": 16,
        "lenType": 16,
        "lenVar": 40
      },
      "kernels_config": {
        "python": {
          "delete_cmd_postfix": "",
          "delete_cmd_prefix": "del ",
          "library": "var_list.py",
          "varRefreshCmd": "print(var_dic_list())"
        },
        "r": {
          "delete_cmd_postfix": ") ",
          "delete_cmd_prefix": "rm(",
          "library": "var_list.r",
          "varRefreshCmd": "cat(var_dic_list()) "
        }
      },
      "types_to_exclude": [
        "module",
        "function",
        "builtin_function_or_method",
        "instance",
        "_Feature"
      ],
      "window_display": false
    },
    "colab": {
      "name": "Week10.ipynb",
      "provenance": [],
      "collapsed_sections": [],
      "toc_visible": true
    }
  },
  "cells": [
    {
      "cell_type": "markdown",
      "metadata": {
        "id": "ANar9G1ik3VN"
      },
      "source": [
        "# Week10"
      ]
    },
    {
      "cell_type": "markdown",
      "metadata": {
        "id": "05EkOMEnkq3U"
      },
      "source": [
        "### Multithreading in Python"
      ]
    },
    {
      "cell_type": "markdown",
      "metadata": {
        "id": "xiudgz5IlBH5"
      },
      "source": [
        "__Process:__\n",
        "\n",
        "Process is any program in execution(running). It is administered by Process control block (PCB). PCB contains information like Process priority, process id, process state, CPU, register, etc. \n",
        "\n",
        "__Thread:__\n",
        "\n",
        "Thread is a segment of a process. A process can have multiple threads contained within itself. Can have 3 states: running, ready, and blocked. managed by Thread Control block (TCB)"
      ]
    },
    {
      "cell_type": "markdown",
      "metadata": {
        "id": "4rTaZxqyr234"
      },
      "source": [
        "\n",
        "```\n",
        "        Single Thread Process        \n",
        "+==================================+            \n",
        "|   Code       Data        Files   |\n",
        "+==================================+\n",
        "| Registers    Counters     Stack  |\n",
        "+==================================+\n",
        "|                                  |\n",
        "|         Thread Execution         |\n",
        "|                                  |\n",
        "+==================================+\n",
        "\n",
        "\n",
        "            Multi-Threaded Process        \n",
        "+=========================================+            \n",
        "|     Code          Data          Files   |\n",
        "+=============+=============+=============+\n",
        "|  Registers  |  Registers  |  Registers  |\n",
        "|   Counters  |   Counters  |   Counters  |\n",
        "|    Stack    |     Stack   |     Stack   |\n",
        "+=============+=============+=============+\n",
        "|             |             |             |\n",
        "|   Thread 1  |   Thread 2  |   Thread 3  |\n",
        "|             |             |             |\n",
        "+=========================================+\n",
        "\n",
        "```"
      ]
    },
    {
      "cell_type": "markdown",
      "metadata": {
        "id": "-tDVgPg-wDLj"
      },
      "source": [
        "* Multiple threads within process share the same data space with the main thread and can therefore share information or communicate with each other more easily than if they were separate processes.\n",
        "* Threads are like called light-weight processes and do not require much memory overhead; they are cheaper than processes to maintain.\n",
        "* __Kernel Threads__ are part of the operating system, while the __User-space threads__ are not implemented in the kernel."
      ]
    },
    {
      "cell_type": "code",
      "metadata": {
        "colab": {
          "base_uri": "https://localhost:8080/"
        },
        "id": "qL8E5hokyqxH",
        "outputId": "002a122a-7fbe-41a1-ee59-b65f6feb71fc"
      },
      "source": [
        "# By simply using the threading module\n",
        "import os\n",
        "import threading\n",
        "\n",
        "def print_cube(num):\n",
        "    print(\"Cube: {}\".format(num * num * num))\n",
        "    print(\"Thread: {}\".format(threading.current_thread().name))\n",
        "    print(\"Process: {}\".format(os.getpid()))\n",
        "  \n",
        "def print_square(num):\n",
        "    print(\"Square: {}\".format(num * num))\n",
        "    print(\"Thread: {}\".format(threading.current_thread().name))\n",
        "    print(\"Process: {}\".format(os.getpid()))\n",
        "  \n",
        "if __name__ == \"__main__\":\n",
        "    # creating thread\n",
        "    t1 = threading.Thread(target=print_square, args=(5,), name=\"Square Thread\")\n",
        "    t2 = threading.Thread(target=print_cube, args=(5,), name=\"Cube Thread\")\n",
        "  \n",
        "    # starting thread 1\n",
        "    t1.start()\n",
        "    # starting thread 2\n",
        "    t2.start()\n",
        "  \n",
        "    # wait until thread 1 is completely executed\n",
        "    t1.join()\n",
        "    # wait until thread 2 is completely executed\n",
        "    t2.join()\n",
        "  \n",
        "    # both threads completely executed\n",
        "    print(\"Done!\")"
      ],
      "execution_count": 26,
      "outputs": [
        {
          "output_type": "stream",
          "text": [
            "Square: 25\n",
            "Thread: Square Thread\n",
            "Process: 59\n",
            "Cube: 125\n",
            "Thread: Cube Thread\n",
            "Process: 59\n",
            "Done!\n"
          ],
          "name": "stdout"
        }
      ]
    },
    {
      "cell_type": "code",
      "metadata": {
        "colab": {
          "base_uri": "https://localhost:8080/"
        },
        "id": "VElkoMHhsI5R",
        "outputId": "75e40bf5-4588-415c-c2bf-cc7d2df8c4a6"
      },
      "source": [
        "# Thread program by extending Thread class\n",
        "\n",
        "import threading\n",
        "import time\n",
        "\n",
        "class myThread (threading.Thread):\n",
        "   def __init__(self, threadID, name, delay):\n",
        "      threading.Thread.__init__(self)\n",
        "      self.threadID = threadID\n",
        "      self.name = name\n",
        "      self.delay = delay\n",
        "   \n",
        "   def run(self):\n",
        "      print (\"Starting \" + self.name)\n",
        "      print_time(self.name, self.delay, 5)\n",
        "      print (\"Exiting \" + self.name)\n",
        "\n",
        "def print_time(threadName, delay, counter):\n",
        "   while counter:\n",
        "      time.sleep(delay)\n",
        "      print (\"%s: %s\" % (threadName, time.ctime(time.time())))\n",
        "      counter -= 1\n",
        "\n",
        "# Create new threads\n",
        "thread1 = myThread(1, \"Thread-1\", 1)\n",
        "thread2 = myThread(2, \"Thread-2\", 2)\n",
        "\n",
        "# Start new Threads\n",
        "thread1.start()\n",
        "thread2.start()\n",
        "thread1.join()\n",
        "thread2.join()\n",
        "print (\"Exiting Main Thread\")"
      ],
      "execution_count": 27,
      "outputs": [
        {
          "output_type": "stream",
          "text": [
            "Starting Thread-1\n",
            "Starting Thread-2\n",
            "Thread-1: Sat May 15 10:27:14 2021\n",
            "Thread-1: Sat May 15 10:27:15 2021\n",
            "Thread-2: Sat May 15 10:27:15 2021\n",
            "Thread-1: Sat May 15 10:27:16 2021\n",
            "Thread-1: Sat May 15 10:27:17 2021\n",
            "Thread-2: Sat May 15 10:27:17 2021\n",
            "Thread-1: Sat May 15 10:27:18 2021\n",
            "Exiting Thread-1\n",
            "Thread-2: Sat May 15 10:27:19 2021\n",
            "Thread-2: Sat May 15 10:27:21 2021\n",
            "Thread-2: Sat May 15 10:27:23 2021\n",
            "Exiting Thread-2\n",
            "Exiting Main Thread\n"
          ],
          "name": "stdout"
        }
      ]
    },
    {
      "cell_type": "markdown",
      "metadata": {
        "id": "XE6K3NwD1Djq"
      },
      "source": [
        "### Thread Synchronization"
      ]
    },
    {
      "cell_type": "code",
      "metadata": {
        "colab": {
          "base_uri": "https://localhost:8080/"
        },
        "id": "VAZwz8FW1Hyp",
        "outputId": "00d50d7c-6a36-43ab-e237-438c5d313847"
      },
      "source": [
        "# Program to simulate a banking transaction\n",
        "import threading\n",
        "  \n",
        "# global variable balance\n",
        "balance = 0\n",
        "  \n",
        "def deposit_money():\n",
        "    \"\"\"\n",
        "    This function increments the bank balance\n",
        "    \"\"\"\n",
        "    global balance\n",
        "    balance += 1\n",
        "  \n",
        "def branch1_deposit():\n",
        "    \"\"\"\n",
        "    This function is used by branch 1\n",
        "    \"\"\"\n",
        "    for _ in range(100000):\n",
        "        deposit_money()\n",
        "  \n",
        "def headOffice_deposit():\n",
        "    \"\"\"\n",
        "    This function is used by head office \n",
        "    \"\"\"\n",
        "    global balance\n",
        "    balance = 0\n",
        "  \n",
        "    # creating threads\n",
        "    t1 = threading.Thread(target=branch1_deposit)\n",
        "    t2 = threading.Thread(target=branch1_deposit)\n",
        "  \n",
        "    # start threads\n",
        "    t1.start()\n",
        "    t2.start()\n",
        "  \n",
        "    # wait until threads finish their job\n",
        "    t1.join()\n",
        "    t2.join()\n",
        "  \n",
        "if __name__ == \"__main__\":\n",
        "    for i in range(10):\n",
        "        headOffice_deposit()\n",
        "        print(\"Simulation {0}: balance = {1}\".format(i+1,balance))"
      ],
      "execution_count": 16,
      "outputs": [
        {
          "output_type": "stream",
          "text": [
            "Simulation 1: balance = 162418\n",
            "Simulation 2: balance = 200000\n",
            "Simulation 3: balance = 162554\n",
            "Simulation 4: balance = 200000\n",
            "Simulation 5: balance = 127826\n",
            "Simulation 6: balance = 200000\n",
            "Simulation 7: balance = 164073\n",
            "Simulation 8: balance = 173749\n",
            "Simulation 9: balance = 200000\n",
            "Simulation 10: balance = 180789\n"
          ],
          "name": "stdout"
        }
      ]
    },
    {
      "cell_type": "markdown",
      "metadata": {
        "id": "ao7TC9UD3_iV"
      },
      "source": [
        "Ideally, in each of the simulations the value of balance should be 200000, but we can see the unpredictabilty here due to __Race condition__\n",
        "\n",
        "Sometimes, the global variable balance in being read by both the threads and incremented to a common value. Ex:\n",
        "1.   balance = 1\n",
        "2.   Thread 1 reads balance=1\n",
        "3.   Thread 2 reads balance=1\n",
        "4.   Thread 1 adds 1 to balance\n",
        "5.   Thread 2 adds 1 to balance\n",
        "6.   Thread 1 writes balance=2\n",
        "7.   Thread 2 writes balance=2\n",
        "\n",
        "whereas, the actual value should be 3. So when a thread had read a value, some other thread should not read it untill the previous thread writes its updated value.\n",
        "\n",
        "A __Semaphore (Lock)__ is a synchronization object that controls access by multiple processes/threads to a common resource in a parallel programming environment. \n"
      ]
    },
    {
      "cell_type": "code",
      "metadata": {
        "colab": {
          "base_uri": "https://localhost:8080/"
        },
        "id": "xAaiCxbn51HS",
        "outputId": "8f9f6ee6-cace-4b7a-9eb2-c81c09909933"
      },
      "source": [
        "# Program to simulate a banking transaction\n",
        "import threading\n",
        "  \n",
        "# global variable balance\n",
        "balance = 0\n",
        "  \n",
        "def deposit_money():\n",
        "    \"\"\"\n",
        "    This function increments the bank balance\n",
        "    \"\"\"\n",
        "    global balance\n",
        "    balance += 1\n",
        "  \n",
        "def branch1_deposit(lock):\n",
        "    \"\"\"\n",
        "    This function is used by branch 1\n",
        "    \"\"\"\n",
        "    for _ in range(100000):\n",
        "        lock.acquire()\n",
        "        deposit_money()\n",
        "        lock.release()\n",
        "  \n",
        "def headOffice_deposit():\n",
        "    \"\"\"\n",
        "    This function is used by head office \n",
        "    \"\"\"\n",
        "    global balance\n",
        "    balance = 0\n",
        "  \n",
        "    # creating a lock\n",
        "    lock = threading.Lock()\n",
        "\n",
        "    # creating threads\n",
        "    t1 = threading.Thread(target=branch1_deposit,  args=(lock,))\n",
        "    t2 = threading.Thread(target=branch1_deposit,  args=(lock,))\n",
        "  \n",
        "    # start threads\n",
        "    t1.start()\n",
        "    t2.start()\n",
        "  \n",
        "    # wait until threads finish their job\n",
        "    t1.join()\n",
        "    t2.join()\n",
        "  \n",
        "if __name__ == \"__main__\":\n",
        "    for i in range(10):\n",
        "        headOffice_deposit()\n",
        "        print(\"Simulation {0}: balance = {1}\".format(i+1,balance))"
      ],
      "execution_count": 28,
      "outputs": [
        {
          "output_type": "stream",
          "text": [
            "Simulation 1: balance = 200000\n",
            "Simulation 2: balance = 200000\n",
            "Simulation 3: balance = 200000\n",
            "Simulation 4: balance = 200000\n",
            "Simulation 5: balance = 200000\n",
            "Simulation 6: balance = 200000\n",
            "Simulation 7: balance = 200000\n",
            "Simulation 8: balance = 200000\n",
            "Simulation 9: balance = 200000\n",
            "Simulation 10: balance = 200000\n"
          ],
          "name": "stdout"
        }
      ]
    },
    {
      "cell_type": "markdown",
      "metadata": {
        "id": "R4XJc3zI6kpt"
      },
      "source": [
        "1.   balance = 1\n",
        "2.   Thread 1 reads balance=1 and locks\n",
        "3.   Thread 2 tries to read balance but blocked by lock\n",
        "4.   Thread 1 adds 1 to balance\n",
        "5.   Thread 1 writes balance=2 and releases lock\n",
        "6.   Thread 2 reads balance=2 and locks\n",
        "7.   Thread 2 adds 1 to balance\n",
        "8.   Thread 2 writes balance=3 and releases lock"
      ]
    },
    {
      "cell_type": "markdown",
      "metadata": {
        "id": "Us2trMPK7LuA"
      },
      "source": [
        "__Advantages:__\n",
        "\n",
        "* It doesn’t block the user. This is because threads are independent of each other.\n",
        "* Better use of system resources is possible since threads execute tasks parallely.\n",
        "* Enhanced performance on multi-processor machines.\n",
        "* Multi-threaded servers and interactive GUIs use multithreading exclusively.\n",
        "\n",
        "__Disadvantages:__\n",
        "\n",
        "* As number of threads increase, complexity increases.\n",
        "* Synchronization of shared resources (objects, data) is necessary.\n",
        "* It is difficult to debug, result is sometimes unpredictable.\n",
        "* Potential deadlocks which leads to starvation, i.e. some threads may not be served with a bad design\n",
        "* Constructing and synchronizing threads is CPU/memory intensive.\n",
        "\n",
        "*(Source: geeksforgeeks.org)*"
      ]
    },
    {
      "cell_type": "markdown",
      "metadata": {
        "id": "mY1J3GpmmrvJ"
      },
      "source": [
        "### Multiprocessing in Python"
      ]
    },
    {
      "cell_type": "markdown",
      "metadata": {
        "id": "KppF7Dw69SM3"
      },
      "source": [
        "__Multiprocessing__ refers to the ability of a system to support more than one process at the same time. Applications in a multiprocessing system are broken to smaller routines that run independently. However, it more memory and resource intensive compared to multi-threading."
      ]
    },
    {
      "cell_type": "code",
      "metadata": {
        "id": "hoIVp63_kuks",
        "colab": {
          "base_uri": "https://localhost:8080/"
        },
        "outputId": "ae72e188-1769-4526-b1c1-44dac127d212"
      },
      "source": [
        "import multiprocessing\n",
        "\n",
        "cube_results = []\n",
        "\n",
        "def cube_list(mylist):\n",
        "    \"\"\"\n",
        "    function to cube a given list\n",
        "    \"\"\"\n",
        "    global cube_results\n",
        "    # append squares of mylist to global list cube_results\n",
        "    for num in mylist:\n",
        "        cube_results.append(num * num * num)\n",
        "    # print global list cube_results\n",
        "    print(\"Result(in process: Cube): {0}\".format(cube_results))\n",
        "\n",
        "\n",
        "def square_list(mylist, result, square_sum):\n",
        "    \"\"\"\n",
        "    function to square a given list\n",
        "    \"\"\"\n",
        "    # append squares of mylist to result array\n",
        "    for idx, num in enumerate(mylist):\n",
        "        result[idx] = num * num\n",
        "  \n",
        "    # square_sum value\n",
        "    square_sum.value = sum(result)\n",
        "  \n",
        "    # print result Array\n",
        "    print(\"Result(in process: Square): {}\".format(result[:]))\n",
        "  \n",
        "    # print square_sum Value\n",
        "    print(\"Sum of squares(in process: Square): {}\".format(square_sum.value))\n",
        "  \n",
        "if __name__ == \"__main__\":\n",
        "    # input list\n",
        "    mylist = [1,2,3,4]\n",
        "  \n",
        "    # creating Array of int data type with space for 4 integers\n",
        "    result = multiprocessing.Array('i', 4)\n",
        "  \n",
        "    # creating Value of int data type\n",
        "    square_sum = multiprocessing.Value('i')\n",
        "  \n",
        "    # creating new process\n",
        "    p1 = multiprocessing.Process(target=square_list, args=(mylist, result, square_sum))\n",
        "    # Global variables will not help in inter-process communication\n",
        "    p2 = multiprocessing.Process(target=cube_list, args=(mylist,))\n",
        "    # starting processes\n",
        "    p1.start()\n",
        "    p2.start()\n",
        "\n",
        "    # wait until processes are finished\n",
        "    p1.join()\n",
        "    p2.join()\n",
        "  \n",
        "    # print result array\n",
        "    print(\"Square Result(in main program): {}\".format(result[:]))\n",
        "    print(\"Cube Result(in main program): {}\".format(cube_results[:]))\n",
        "  \n",
        "    # print square_sum Value\n",
        "    print(\"Sum of squares(in main program): {}\".format(square_sum.value))"
      ],
      "execution_count": 29,
      "outputs": [
        {
          "output_type": "stream",
          "text": [
            "Result(in process: Square): [1, 4, 9, 16]\n",
            "Sum of squares(in process: Square): 30\n",
            "Result(in process: Cube): [1, 8, 27, 64]\n",
            "Square Result(in main program): [1, 4, 9, 16]\n",
            "Cube Result(in main program): []\n",
            "Sum of squares(in main program): 30\n"
          ],
          "name": "stdout"
        }
      ]
    },
    {
      "cell_type": "markdown",
      "metadata": {
        "id": "oer6NRNEBOz5"
      },
      "source": [
        "### Process Synchronization"
      ]
    },
    {
      "cell_type": "markdown",
      "metadata": {
        "id": "tJ3_Wi6bB0nZ"
      },
      "source": [
        "Source: https://www.geeksforgeeks.org/synchronization-pooling-processes-python/"
      ]
    },
    {
      "cell_type": "code",
      "metadata": {
        "id": "T7w8i_CRY-_C",
        "colab": {
          "base_uri": "https://localhost:8080/"
        },
        "outputId": "4d138fa9-6ff6-4ae6-b6a8-0be09556025c"
      },
      "source": [
        "# Python program to illustrate \n",
        "# the concept of race condition\n",
        "# in multiprocessing\n",
        "import multiprocessing\n",
        "  \n",
        "# function to withdraw from account\n",
        "def withdraw(balance):    \n",
        "    for _ in range(10000):\n",
        "        balance.value = balance.value - 1\n",
        "  \n",
        "# function to deposit to account\n",
        "def deposit(balance):    \n",
        "    for _ in range(10000):\n",
        "        balance.value = balance.value + 1\n",
        "  \n",
        "def perform_transactions():\n",
        "  \n",
        "    # initial balance (in shared memory)\n",
        "    balance = multiprocessing.Value('i', 100)\n",
        "  \n",
        "    # creating new processes\n",
        "    p1 = multiprocessing.Process(target=withdraw, args=(balance,))\n",
        "    p2 = multiprocessing.Process(target=deposit, args=(balance,))\n",
        "\n",
        "    # starting processes\n",
        "    p1.start()\n",
        "    p2.start()\n",
        "  \n",
        "    # wait until processes are finished\n",
        "    p1.join()\n",
        "    p2.join()\n",
        "  \n",
        "    # print final balance\n",
        "    print(\"Final balance = {}\".format(balance.value))\n",
        "  \n",
        "if __name__ == \"__main__\":\n",
        "    for _ in range(10):\n",
        "  \n",
        "        # perform same transaction process 10 times\n",
        "        perform_transactions()"
      ],
      "execution_count": 30,
      "outputs": [
        {
          "output_type": "stream",
          "text": [
            "Final balance = 610\n",
            "Final balance = -1015\n",
            "Final balance = -335\n",
            "Final balance = -1575\n",
            "Final balance = 1088\n",
            "Final balance = 1344\n",
            "Final balance = 68\n",
            "Final balance = -824\n",
            "Final balance = 1579\n",
            "Final balance = -1750\n"
          ],
          "name": "stdout"
        }
      ]
    },
    {
      "cell_type": "code",
      "metadata": {
        "id": "hG3LxSM5ZJmH",
        "colab": {
          "base_uri": "https://localhost:8080/"
        },
        "outputId": "f324aacc-1063-47f9-c7c1-6417914715a9"
      },
      "source": [
        "import multiprocessing\n",
        "  \n",
        "# function to withdraw from account\n",
        "def withdraw(balance, lock):    \n",
        "    for _ in range(10000):\n",
        "        lock.acquire()\n",
        "        balance.value = balance.value - 1\n",
        "        lock.release()\n",
        "  \n",
        "# function to deposit to account\n",
        "def deposit(balance, lock):    \n",
        "    for _ in range(10000):\n",
        "        lock.acquire()\n",
        "        balance.value = balance.value + 1\n",
        "        lock.release()\n",
        "  \n",
        "def perform_transactions():\n",
        "  \n",
        "    # initial balance (in shared memory)\n",
        "    balance = multiprocessing.Value('i', 100)\n",
        "  \n",
        "    # creating a lock object\n",
        "    lock = multiprocessing.Lock()\n",
        "  \n",
        "    # creating new processes\n",
        "    p1 = multiprocessing.Process(target=withdraw, args=(balance,lock))\n",
        "    p2 = multiprocessing.Process(target=deposit, args=(balance,lock))\n",
        "  \n",
        "    # starting processes\n",
        "    p1.start()\n",
        "    p2.start()\n",
        "  \n",
        "    # wait until processes are finished\n",
        "    p1.join()\n",
        "    p2.join()\n",
        "  \n",
        "    # print final balance\n",
        "    print(\"Final balance = {}\".format(balance.value))\n",
        "  \n",
        "if __name__ == \"__main__\":\n",
        "    for _ in range(10):\n",
        "  \n",
        "        # perform same transaction process 10 times\n",
        "        perform_transactions()"
      ],
      "execution_count": 31,
      "outputs": [
        {
          "output_type": "stream",
          "text": [
            "Final balance = 100\n",
            "Final balance = 100\n",
            "Final balance = 100\n",
            "Final balance = 100\n",
            "Final balance = 100\n",
            "Final balance = 100\n",
            "Final balance = 100\n",
            "Final balance = 100\n",
            "Final balance = 100\n",
            "Final balance = 100\n"
          ],
          "name": "stdout"
        }
      ]
    },
    {
      "cell_type": "code",
      "metadata": {
        "id": "HY5ABvhUroxP"
      },
      "source": [
        ""
      ],
      "execution_count": null,
      "outputs": []
    }
  ]
}